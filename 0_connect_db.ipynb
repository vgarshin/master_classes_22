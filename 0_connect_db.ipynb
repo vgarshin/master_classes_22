{
 "cells": [
  {
   "cell_type": "markdown",
   "metadata": {},
   "source": [
    "# Mastering Applied Skills in Management, Analytics and Entrepreneurship I"
   ]
  },
  {
   "cell_type": "markdown",
   "metadata": {},
   "source": [
    "## DATA COLLECTION TECHNIQUES\n",
    "## Part I. Connect to remote database"
   ]
  },
  {
   "cell_type": "markdown",
   "metadata": {},
   "source": [
    "### 1. Connect to PostgreSQL database"
   ]
  },
  {
   "cell_type": "code",
   "execution_count": null,
   "metadata": {},
   "outputs": [],
   "source": [
    "import os\n",
    "import json\n",
    "import psycopg2\n",
    "from psycopg2.extras import DictCursor"
   ]
  },
  {
   "cell_type": "markdown",
   "metadata": {},
   "source": [
    "[Psycopg](https://www.psycopg.org/docs/index.html) is already installed in the JupyterHub environment as a PostgreSQL database adapter for Python."
   ]
  },
  {
   "cell_type": "code",
   "execution_count": null,
   "metadata": {},
   "outputs": [],
   "source": [
    "# do not do like this!\n",
    "POSTGRESQL_HOST = 'myhost'\n",
    "DBNAME = 'mydbase'\n",
    "USERNAME = 'mynamr'\n",
    "PASSWORD = 'youshallnotpass'"
   ]
  },
  {
   "cell_type": "code",
   "execution_count": null,
   "metadata": {},
   "outputs": [],
   "source": [
    "os.listdir()"
   ]
  },
  {
   "cell_type": "code",
   "execution_count": null,
   "metadata": {},
   "outputs": [],
   "source": [
    "# this is better\n",
    "def access_data(file_path):\n",
    "    with open(file_path) as file:\n",
    "        access_data = json.load(file)\n",
    "    return access_data\n",
    "\n",
    "creds = access_data(file_path='access_dbase.json')\n",
    "print(creds.keys())"
   ]
  },
  {
   "cell_type": "markdown",
   "metadata": {},
   "source": [
    "__NOTE:__ the best solution is to use environment variables. About [environment variables](https://help.ubuntu.com/community/EnvironmentVariables) and [how to use it](https://www.twilio.com/blog/environment-variables-python)."
   ]
  },
  {
   "cell_type": "code",
   "execution_count": null,
   "metadata": {},
   "outputs": [],
   "source": [
    "conn = psycopg2.connect(\n",
    "    dbname=creds['DBNAME'], \n",
    "    user=creds['USERNAME'],\n",
    "    password=creds['PASSWORD'], \n",
    "    host=creds['POSTGRESQL_HOST'],\n",
    "    port='6432'\n",
    ")\n",
    "cur = conn.cursor()"
   ]
  },
  {
   "cell_type": "markdown",
   "metadata": {},
   "source": [
    "### 2. How to send query"
   ]
  },
  {
   "cell_type": "code",
   "execution_count": null,
   "metadata": {},
   "outputs": [],
   "source": [
    "query = 'SELECT * FROM pg_catalog.pg_tables;'"
   ]
  },
  {
   "cell_type": "code",
   "execution_count": null,
   "metadata": {},
   "outputs": [],
   "source": [
    "cur.execute(query)\n",
    "records = cur.fetchall()\n",
    "cur.close()\n",
    "conn.close()"
   ]
  },
  {
   "cell_type": "code",
   "execution_count": null,
   "metadata": {},
   "outputs": [],
   "source": [
    "print(records[0])"
   ]
  },
  {
   "cell_type": "markdown",
   "metadata": {},
   "source": [
    "### 3. How to send query ('with' context manager)"
   ]
  },
  {
   "cell_type": "code",
   "execution_count": null,
   "metadata": {},
   "outputs": [],
   "source": [
    "with psycopg2.connect(\n",
    "    dbname=creds['DBNAME'], \n",
    "    user=creds['USERNAME'],\n",
    "    password=creds['PASSWORD'], \n",
    "    host=creds['POSTGRESQL_HOST'],\n",
    "    port='6432'\n",
    ") as conn:\n",
    "    with conn.cursor() as cur:\n",
    "        cur.execute(query)\n",
    "        records = cur.fetchall()"
   ]
  },
  {
   "cell_type": "code",
   "execution_count": null,
   "metadata": {},
   "outputs": [],
   "source": [
    "print(records[0])"
   ]
  },
  {
   "cell_type": "code",
   "execution_count": null,
   "metadata": {},
   "outputs": [],
   "source": [
    "conn, cur"
   ]
  },
  {
   "cell_type": "markdown",
   "metadata": {},
   "source": [
    "### 4. Multiply queries"
   ]
  },
  {
   "cell_type": "code",
   "execution_count": null,
   "metadata": {},
   "outputs": [],
   "source": [
    "queries = {\n",
    "    '___DATABASES___': 'SELECT * FROM pg_database',\n",
    "    '___TABLES___': \"SELECT relname FROM pg_class WHERE relkind='r' AND relname !~ '^(pg_|sql_)';\",\n",
    "    '\\n___COLUMNS___': \"SELECT column_name FROM INFORMATION_SCHEMA.COLUMNS WHERE TABLE_NAME = 'seats';\"\n",
    "}"
   ]
  },
  {
   "cell_type": "code",
   "execution_count": null,
   "metadata": {},
   "outputs": [],
   "source": [
    "with psycopg2.connect(\n",
    "    dbname=creds['DBNAME'], \n",
    "    user=creds['USERNAME'],\n",
    "    password=creds['PASSWORD'], \n",
    "    host=creds['POSTGRESQL_HOST'],\n",
    "    port='6432'\n",
    ") as conn:\n",
    "    for name, query in queries.items():\n",
    "        print('\\n', name)\n",
    "        with conn.cursor() as cur:\n",
    "            cur.execute(query)\n",
    "            for row in cur.fetchall():\n",
    "                print(row)"
   ]
  },
  {
   "cell_type": "markdown",
   "metadata": {},
   "source": [
    "### 5. SQL for IPython"
   ]
  },
  {
   "cell_type": "markdown",
   "metadata": {},
   "source": [
    "The [IPython SQL](https://github.com/catherinedevlin/ipython-sql) framework allows to use [magic commands](https://ipython.readthedocs.io/en/stable/interactive/magics.html) like `%sql` (or `%%sql`) for SQL queries. We can connect to a database, then issue SQL commands within Jupyter."
   ]
  },
  {
   "cell_type": "code",
   "execution_count": null,
   "metadata": {},
   "outputs": [],
   "source": [
    "!pip install ipython-sql"
   ]
  },
  {
   "cell_type": "code",
   "execution_count": null,
   "metadata": {},
   "outputs": [],
   "source": [
    "%load_ext sql"
   ]
  },
  {
   "cell_type": "markdown",
   "metadata": {},
   "source": [
    "Connection data string to be used later:"
   ]
  },
  {
   "cell_type": "code",
   "execution_count": null,
   "metadata": {},
   "outputs": [],
   "source": [
    "CONNECT_DATA = 'postgresql://{}:{}@{}:{}/{}'.format(\n",
    "    creds['USERNAME'],\n",
    "    creds['PASSWORD'], \n",
    "    creds['POSTGRESQL_HOST'],\n",
    "    '6432',\n",
    "    'dbsimba'\n",
    ")\n",
    "CONNECT_DATA"
   ]
  },
  {
   "cell_type": "markdown",
   "metadata": {},
   "source": [
    "Let's look at all databases in PostgreSQL. SQL query can be done after the connection with `%%sql` magic command:"
   ]
  },
  {
   "cell_type": "code",
   "execution_count": null,
   "metadata": {},
   "outputs": [],
   "source": [
    "%%sql $CONNECT_DATA\n",
    "    SELECT * FROM public.jhublogs LIMIT 10"
   ]
  },
  {
   "cell_type": "code",
   "execution_count": null,
   "metadata": {},
   "outputs": [],
   "source": [
    "%sql SELECT tablename AS table FROM pg_tables WHERE tablename !~ '^(pg_|sql_)'"
   ]
  },
  {
   "cell_type": "markdown",
   "metadata": {},
   "source": [
    "## <font color='red'>INTERMEDIATE QUIZ</font>\n",
    "Answer the following questions with the help of `%%sql`:\n",
    "1. How many logs are there? (HINT: use `COUNT` command)\n",
    "2. What time interval is covered by logs? (HINT: use `max` and `min` commands over `log_timestamp` column)\n",
    "3. Find all types of logs (HINT: `log_type` columns)\n",
    "4. Find all logs that are produced by your activity? (HINT: use `LIKE '%mylogin%'` syntax)"
   ]
  },
  {
   "cell_type": "markdown",
   "metadata": {},
   "source": [
    "### 6. How to deal with the data"
   ]
  },
  {
   "cell_type": "code",
   "execution_count": null,
   "metadata": {},
   "outputs": [],
   "source": [
    "query = 'SELECT * FROM public.jhublogs LIMIT 100000;'"
   ]
  },
  {
   "cell_type": "code",
   "execution_count": null,
   "metadata": {},
   "outputs": [],
   "source": [
    "with psycopg2.connect(\n",
    "    dbname=creds['DBNAME'], \n",
    "    user=creds['USERNAME'],\n",
    "    password=creds['PASSWORD'], \n",
    "    host=creds['POSTGRESQL_HOST'],\n",
    "    port='6432'\n",
    ") as conn:\n",
    "    with conn.cursor() as cur:\n",
    "        cur.execute(query)\n",
    "        # names of table columns\n",
    "        col_names = [desc[0] for desc in cur.description]\n",
    "        # data from table\n",
    "        records = cur.fetchall()"
   ]
  },
  {
   "cell_type": "code",
   "execution_count": null,
   "metadata": {},
   "outputs": [],
   "source": [
    "print(records[:3])"
   ]
  },
  {
   "cell_type": "code",
   "execution_count": null,
   "metadata": {},
   "outputs": [],
   "source": [
    "print(colnames)"
   ]
  },
  {
   "cell_type": "code",
   "execution_count": null,
   "metadata": {},
   "outputs": [],
   "source": [
    "import pandas as pd"
   ]
  },
  {
   "cell_type": "code",
   "execution_count": null,
   "metadata": {},
   "outputs": [],
   "source": [
    "df = pd.DataFrame(records, index=None)\n",
    "df.columns = col_names\n",
    "df.head()"
   ]
  },
  {
   "cell_type": "markdown",
   "metadata": {},
   "source": [
    "### 7. ClickHouse connection demo"
   ]
  },
  {
   "cell_type": "markdown",
   "metadata": {},
   "source": [
    "We will need very famous [Requests](https://requests.readthedocs.io/en/latest/index.html) library."
   ]
  },
  {
   "cell_type": "code",
   "execution_count": null,
   "metadata": {},
   "outputs": [],
   "source": [
    "import os\n",
    "import requests\n",
    "import pandas as pd"
   ]
  },
  {
   "cell_type": "code",
   "execution_count": null,
   "metadata": {},
   "outputs": [],
   "source": [
    "CH_HOST = 'http://10.129.0.30'\n",
    "CH_PORT = '8123'\n",
    "SSL_VERIFY = True\n",
    "query = 'SHOW DATABASES'\n",
    "user_name=os.environ['CLICKHOUSE_USER']\n",
    "user_passwd=os.environ['CLICKHOUSE_PASSWORD']"
   ]
  },
  {
   "cell_type": "code",
   "execution_count": null,
   "metadata": {},
   "outputs": [],
   "source": [
    "r = requests.post(\n",
    "    url=':'.join([CH_HOST, CH_PORT]), \n",
    "    data=query,\n",
    "    auth=(\n",
    "        os.environ['CLICKHOUSE_USER'], \n",
    "        os.environ['CLICKHOUSE_PASSWORD']\n",
    "    ), \n",
    "    verify=SSL_VERIFY\n",
    ")\n",
    "print('request status code:', r.status_code)"
   ]
  },
  {
   "cell_type": "code",
   "execution_count": null,
   "metadata": {},
   "outputs": [],
   "source": [
    "r.text"
   ]
  },
  {
   "cell_type": "code",
   "execution_count": null,
   "metadata": {},
   "outputs": [],
   "source": [
    "def get_data(query, host, user_name, user_passwd):\n",
    "    if (user_name == '') and (user_passwd == ''):\n",
    "        r = requests.post(\n",
    "            host, \n",
    "            params=query_dict, \n",
    "            verify=SSL_VERIFY\n",
    "        )\n",
    "    else:\n",
    "        r = requests.post(\n",
    "            host, \n",
    "            data=query,\n",
    "            auth=(\n",
    "                user_name, \n",
    "                user_passwd\n",
    "            ), \n",
    "            verify=SSL_VERIFY\n",
    "        )\n",
    "    print('request status code:', r.status_code)\n",
    "    return r.text"
   ]
  },
  {
   "cell_type": "code",
   "execution_count": null,
   "metadata": {},
   "outputs": [],
   "source": [
    "query = 'SHOW TABLES FROM gsomlogs'\n",
    "data = get_data(\n",
    "    query=query, \n",
    "    host=':'.join([CH_HOST, CH_PORT]),\n",
    "    user_name=os.environ['CLICKHOUSE_USER'],\n",
    "    user_passwd=os.environ['CLICKHOUSE_PASSWORD']\n",
    ")"
   ]
  },
  {
   "cell_type": "code",
   "execution_count": null,
   "metadata": {},
   "outputs": [],
   "source": [
    "data"
   ]
  },
  {
   "cell_type": "code",
   "execution_count": null,
   "metadata": {},
   "outputs": [],
   "source": [
    "data = [x.split('\\t') for x in data.split('\\n')]\n",
    "pd.DataFrame(data)"
   ]
  },
  {
   "cell_type": "code",
   "execution_count": null,
   "metadata": {},
   "outputs": [],
   "source": [
    "query = 'SELECT * FROM gsomlogs.hits_all ORDER BY DateTime DESC LIMIT 100'\n",
    "data = get_data(\n",
    "    query=query, \n",
    "    host=':'.join([CH_HOST, CH_PORT]),\n",
    "    user_name=os.environ['CLICKHOUSE_USER'],\n",
    "    user_passwd=os.environ['CLICKHOUSE_PASSWORD']\n",
    ")"
   ]
  },
  {
   "cell_type": "code",
   "execution_count": null,
   "metadata": {},
   "outputs": [],
   "source": [
    "data = [x.split('\\t') for x in data.split('\\n')]\n",
    "df = pd.DataFrame(data)\n",
    "df.head()"
   ]
  },
  {
   "cell_type": "markdown",
   "metadata": {},
   "source": [
    "## LAB WORK #1"
   ]
  },
  {
   "cell_type": "markdown",
   "metadata": {},
   "source": [
    "Your lab work is as follows:\n",
    "1. Take Jupyter logs from database (PostgreSQL)\n",
    "2. Explore them \n",
    "3. Find users that log in Jupyter most often\n",
    "\n",
    "__HINT:__ check fields `log_code` or `log_type` to undercover log in activities"
   ]
  },
  {
   "cell_type": "code",
   "execution_count": null,
   "metadata": {},
   "outputs": [],
   "source": []
  }
 ],
 "metadata": {
  "kernelspec": {
   "display_name": "Python 3",
   "language": "python",
   "name": "python3"
  },
  "language_info": {
   "codemirror_mode": {
    "name": "ipython",
    "version": 3
   },
   "file_extension": ".py",
   "mimetype": "text/x-python",
   "name": "python",
   "nbconvert_exporter": "python",
   "pygments_lexer": "ipython3",
   "version": "3.8.6"
  }
 },
 "nbformat": 4,
 "nbformat_minor": 4
}
