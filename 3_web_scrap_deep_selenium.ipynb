{
 "cells": [
  {
   "cell_type": "markdown",
   "id": "temporal-calendar",
   "metadata": {},
   "source": [
    "# Mastering Applied Skills in Management, Analytics and Entrepreneurship I"
   ]
  },
  {
   "cell_type": "markdown",
   "id": "33af877e",
   "metadata": {},
   "source": [
    "## DATA COLLECTION TECHNIQUES\n",
    "## Part IV. Web scraping deeper dive"
   ]
  },
  {
   "cell_type": "markdown",
   "id": "blond-america",
   "metadata": {},
   "source": [
    "JupyterHub installation includes [Selenium with Python](https://selenium-python.readthedocs.io/) which provides a simple API to write functional/acceptance tests using Selenium WebDriver or just to scrap sites over the Internet."
   ]
  },
  {
   "cell_type": "markdown",
   "id": "a452e418",
   "metadata": {},
   "source": [
    "### 1. Selenium library"
   ]
  },
  {
   "cell_type": "code",
   "execution_count": null,
   "id": "lonely-nutrition",
   "metadata": {},
   "outputs": [],
   "source": [
    "import selenium\n",
    "from selenium import webdriver\n",
    "from selenium.webdriver import FirefoxOptions"
   ]
  },
  {
   "cell_type": "code",
   "execution_count": null,
   "id": "bound-ticket",
   "metadata": {},
   "outputs": [],
   "source": [
    "opts = FirefoxOptions()\n",
    "opts.add_argument('--headless')\n",
    "browser = webdriver.Firefox(options=opts)"
   ]
  },
  {
   "cell_type": "markdown",
   "id": "changing-introduction",
   "metadata": {},
   "source": [
    "### 2. Basic demo"
   ]
  },
  {
   "cell_type": "code",
   "execution_count": null,
   "id": "parental-reform",
   "metadata": {},
   "outputs": [],
   "source": [
    "URL = 'https://ai-jobs.net'\n",
    "browser.get(URL)"
   ]
  },
  {
   "cell_type": "code",
   "execution_count": null,
   "id": "solar-vatican",
   "metadata": {},
   "outputs": [],
   "source": [
    "text_from_site = browser.find_element('xpath', 'html').text"
   ]
  },
  {
   "cell_type": "code",
   "execution_count": null,
   "id": "global-christianity",
   "metadata": {},
   "outputs": [],
   "source": [
    "print(text_from_site)"
   ]
  },
  {
   "cell_type": "code",
   "execution_count": null,
   "id": "0bc9696a",
   "metadata": {},
   "outputs": [],
   "source": [
    "len(text_from_site)"
   ]
  },
  {
   "cell_type": "markdown",
   "id": "2d0ba716",
   "metadata": {},
   "source": [
    "### 3. Click buttons"
   ]
  },
  {
   "cell_type": "code",
   "execution_count": null,
   "id": "e865e3ae",
   "metadata": {},
   "outputs": [],
   "source": [
    "browser.find_element('link text', \"Load more\").click()"
   ]
  },
  {
   "cell_type": "code",
   "execution_count": null,
   "id": "57e46bc0",
   "metadata": {},
   "outputs": [],
   "source": [
    "text_from_site = browser.find_element('xpath', 'html').text"
   ]
  },
  {
   "cell_type": "code",
   "execution_count": null,
   "id": "02ecb41e",
   "metadata": {},
   "outputs": [],
   "source": [
    "len(text_from_site)"
   ]
  },
  {
   "cell_type": "markdown",
   "id": "7830f87c",
   "metadata": {},
   "source": [
    "### 4. Click buttons wisely"
   ]
  },
  {
   "cell_type": "code",
   "execution_count": null,
   "id": "e60cdeff",
   "metadata": {},
   "outputs": [],
   "source": [
    "import time"
   ]
  },
  {
   "cell_type": "code",
   "execution_count": null,
   "id": "cd0b1b2b",
   "metadata": {},
   "outputs": [],
   "source": [
    "counter = 0\n",
    "while counter < 3: # or 'while True:' for endless\n",
    "    try:\n",
    "        browser.find_element('link text', \"Load more\").click()\n",
    "        text_from_site = browser.find_element('xpath', 'html').text\n",
    "        counter += 1\n",
    "        print('click', counter, '| text', len(text_from_site))\n",
    "        time.sleep(1)\n",
    "    except Exception as e:\n",
    "        print(e)\n",
    "        break\n",
    "text_from_site = browser.find_element('xpath', 'html').text\n",
    "len(text_from_site)"
   ]
  },
  {
   "cell_type": "code",
   "execution_count": null,
   "id": "b9e46833",
   "metadata": {},
   "outputs": [],
   "source": [
    "from selenium.webdriver.common.by import By"
   ]
  },
  {
   "cell_type": "code",
   "execution_count": null,
   "id": "6881fc68",
   "metadata": {},
   "outputs": [],
   "source": [
    "jobs = browser.find_elements(By.XPATH, \"//a[@class='col list-group-item-action px-2 py-3']\")\n",
    "len(jobs)"
   ]
  },
  {
   "cell_type": "code",
   "execution_count": null,
   "id": "5b8a67ae",
   "metadata": {},
   "outputs": [],
   "source": [
    "jobs[0].get_attribute(name='href')"
   ]
  },
  {
   "cell_type": "code",
   "execution_count": null,
   "id": "9427ac05",
   "metadata": {},
   "outputs": [],
   "source": [
    "jobs[0].get_attribute(name='title')"
   ]
  },
  {
   "cell_type": "code",
   "execution_count": null,
   "id": "67833f1f",
   "metadata": {},
   "outputs": [],
   "source": [
    "# NOTE: use './/' instead of '//' to search in element, not from the start of the tree\n",
    "jobs[0].find_element(By.XPATH, \".//span[@class='d-none d-md-block text-break job-list-item-location']\").text"
   ]
  },
  {
   "cell_type": "code",
   "execution_count": null,
   "id": "bf5e1dbc",
   "metadata": {},
   "outputs": [],
   "source": [
    "jobs[0].find_element(By.XPATH, \".//span[@class='badge badge-secondary badge-pill my-md-1']\").text"
   ]
  },
  {
   "cell_type": "code",
   "execution_count": null,
   "id": "8ddc7255",
   "metadata": {},
   "outputs": [],
   "source": [
    "jobs[0].find_element(By.XPATH, \".//span[@class='badge badge-info badge-pill my-md-1 d-md-none']\").text"
   ]
  },
  {
   "cell_type": "code",
   "execution_count": null,
   "id": "244302cc",
   "metadata": {},
   "outputs": [],
   "source": [
    "jobs[0].find_element(By.XPATH, \".//span[@class='badge badge-info badge-pill my-md-1 d-none d-md-inline-block']\").text"
   ]
  },
  {
   "cell_type": "code",
   "execution_count": null,
   "id": "a01fb24c",
   "metadata": {},
   "outputs": [],
   "source": [
    "jobs[0].find_element(By.XPATH, \".//span[@class='badge badge-success badge-pill d-none d-md-inline-block']\").text"
   ]
  },
  {
   "cell_type": "code",
   "execution_count": null,
   "id": "12349334",
   "metadata": {},
   "outputs": [],
   "source": [
    "jobs[0].find_element(By.XPATH, \".//span[@class='badge badge-success badge-pill d-md-none']\").text"
   ]
  },
  {
   "cell_type": "code",
   "execution_count": null,
   "id": "fd7ac164",
   "metadata": {},
   "outputs": [],
   "source": [
    "jobs[0].find_element(By.XPATH, \".//p[@class='m-0 text-muted job-list-item-company']\").text"
   ]
  },
  {
   "cell_type": "code",
   "execution_count": null,
   "id": "4dc41ec3",
   "metadata": {},
   "outputs": [],
   "source": [
    "jobs[0].find_element(By.XPATH, \".//h2[@class='h4 mb-1']\").text"
   ]
  },
  {
   "cell_type": "code",
   "execution_count": null,
   "id": "a0b56d35",
   "metadata": {},
   "outputs": [],
   "source": [
    "[x.text for x in jobs[0].find_elements(By.XPATH, \".//span[@class='badge badge-light badge-pill']\")]"
   ]
  },
  {
   "cell_type": "code",
   "execution_count": null,
   "id": "8d5accce",
   "metadata": {},
   "outputs": [],
   "source": [
    "[x.text for x in jobs[0].find_elements(By.XPATH, \".//span[@class='badge badge-success badge-pill']\")]"
   ]
  },
  {
   "cell_type": "code",
   "execution_count": null,
   "id": "1e388c0f",
   "metadata": {},
   "outputs": [],
   "source": [
    "import time\n",
    "from tqdm.auto import tqdm"
   ]
  },
  {
   "cell_type": "code",
   "execution_count": null,
   "id": "245d4b22",
   "metadata": {},
   "outputs": [],
   "source": [
    "all_jobs = []\n",
    "for job in tqdm(jobs):\n",
    "    job_dict = {}\n",
    "    job_dict['url'] = job.get_attribute(name='href')\n",
    "    job_dict['title'] = job.get_attribute(name='title')\n",
    "    job_dict['locate'] = job.find_element(\n",
    "        By.XPATH, \".//span[@class='d-none d-md-block text-break job-list-item-location']\"\n",
    "    ).text\n",
    "    job_dict['type'] = job.find_element(\n",
    "        By.XPATH, \n",
    "        \".//span[@class='badge badge-secondary badge-pill my-md-1']\"\n",
    "    ).text\n",
    "    try:\n",
    "        job_dict['level'] = job.find_element(\n",
    "            By.XPATH, \n",
    "            \".//span[@class='badge badge-info badge-pill my-md-1 d-none d-md-inline-block']\").text\n",
    "    except:\n",
    "        job_dict['level'] = ''\n",
    "    try:\n",
    "        job_dict['salary_range'] = job.find_element(\n",
    "            By.XPATH, \n",
    "            \".//span[@class='badge badge-success badge-pill d-none d-md-inline-block']\").text\n",
    "    except:\n",
    "        job_dict['salary_range'] = ''\n",
    "    try:\n",
    "        job_dict['salary'] = job.find_element(\n",
    "            By.XPATH, \n",
    "            \".//span[@class='badge badge-success badge-pill d-md-none']\"\n",
    "        ).text\n",
    "    except:\n",
    "        job_dict['salary'] = ''\n",
    "    job_dict['company'] = job.find_element(\n",
    "        By.XPATH, \n",
    "        \".//p[@class='m-0 text-muted job-list-item-company']\"\n",
    "    ).text\n",
    "    job_dict['position'] = job.find_element(By.XPATH, \".//h2[@class='h4 mb-1']\").text\n",
    "    job_dict['skills'] = [\n",
    "        x.text \n",
    "        for x in job.find_elements(By.XPATH, \".//span[@class='badge badge-light badge-pill']\")\n",
    "    ]\n",
    "    job_dict['benefits'] = [\n",
    "        x.text \n",
    "        for x in job.find_elements(By.XPATH, \".//span[@class='badge badge-success badge-pill']\")\n",
    "    ]\n",
    "    all_jobs.append(job_dict)"
   ]
  },
  {
   "cell_type": "code",
   "execution_count": null,
   "id": "0be7d567",
   "metadata": {},
   "outputs": [],
   "source": [
    "import pandas as pd"
   ]
  },
  {
   "cell_type": "code",
   "execution_count": null,
   "id": "6fb98c08",
   "metadata": {},
   "outputs": [],
   "source": [
    "df = pd.DataFrame(all_jobs)"
   ]
  },
  {
   "cell_type": "code",
   "execution_count": null,
   "id": "dccb4fdb",
   "metadata": {},
   "outputs": [],
   "source": [
    "df"
   ]
  },
  {
   "cell_type": "markdown",
   "id": "89264b74",
   "metadata": {},
   "source": [
    "### 5. Single position with Selenium"
   ]
  },
  {
   "cell_type": "code",
   "execution_count": null,
   "id": "5135bdeb",
   "metadata": {},
   "outputs": [],
   "source": [
    "print(all_jobs[0]['url'])"
   ]
  },
  {
   "cell_type": "code",
   "execution_count": null,
   "id": "03f52619",
   "metadata": {},
   "outputs": [],
   "source": [
    "# Recreate webdriver again\n",
    "opts = FirefoxOptions()\n",
    "opts.add_argument('--headless')\n",
    "browser = webdriver.Firefox(options=opts)"
   ]
  },
  {
   "cell_type": "code",
   "execution_count": null,
   "id": "4676ae1b",
   "metadata": {},
   "outputs": [],
   "source": [
    "URL = all_jobs[0]['url']\n",
    "browser.get(URL)"
   ]
  },
  {
   "cell_type": "code",
   "execution_count": null,
   "id": "95e89971",
   "metadata": {},
   "outputs": [],
   "source": [
    "browser.find_element('xpath', 'html').text"
   ]
  },
  {
   "cell_type": "code",
   "execution_count": null,
   "id": "f630d4ef",
   "metadata": {},
   "outputs": [],
   "source": [
    "text = browser.find_element(By.XPATH, \"//script[@type='application/ld+json']\")"
   ]
  },
  {
   "cell_type": "code",
   "execution_count": null,
   "id": "5366c158",
   "metadata": {},
   "outputs": [],
   "source": [
    "text.get_attribute('innerHTML')"
   ]
  },
  {
   "cell_type": "code",
   "execution_count": null,
   "id": "09111933",
   "metadata": {},
   "outputs": [],
   "source": [
    "import json"
   ]
  },
  {
   "cell_type": "code",
   "execution_count": null,
   "id": "35510e0a",
   "metadata": {},
   "outputs": [],
   "source": [
    "data = json.loads(text.get_attribute('innerHTML'))\n",
    "data"
   ]
  },
  {
   "cell_type": "code",
   "execution_count": null,
   "id": "a80fabf9",
   "metadata": {},
   "outputs": [],
   "source": [
    "data['baseSalary']"
   ]
  },
  {
   "cell_type": "code",
   "execution_count": null,
   "id": "ec19ff00",
   "metadata": {},
   "outputs": [],
   "source": []
  }
 ],
 "metadata": {
  "kernelspec": {
   "display_name": "Python 3 (ipykernel)",
   "language": "python",
   "name": "python3"
  },
  "language_info": {
   "codemirror_mode": {
    "name": "ipython",
    "version": 3
   },
   "file_extension": ".py",
   "mimetype": "text/x-python",
   "name": "python",
   "nbconvert_exporter": "python",
   "pygments_lexer": "ipython3",
   "version": "3.9.6"
  }
 },
 "nbformat": 4,
 "nbformat_minor": 5
}
